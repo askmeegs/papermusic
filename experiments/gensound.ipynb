{
 "cells": [
  {
   "cell_type": "code",
   "execution_count": 2,
   "metadata": {},
   "outputs": [
    {
     "name": "stdout",
     "output_type": "stream",
     "text": [
      "Requirement already satisfied: gensound in /opt/homebrew/lib/python3.10/site-packages (0.5.3)\n",
      "Requirement already satisfied: numpy in /opt/homebrew/lib/python3.10/site-packages (from gensound) (1.23.3)\n"
     ]
    }
   ],
   "source": [
    "! pip install gensound"
   ]
  },
  {
   "cell_type": "code",
   "execution_count": 3,
   "metadata": {},
   "outputs": [],
   "source": [
    "# https://github.com/Quefumas/gensound/wiki/Melodic-Shorthand-Notation \n",
    "from gensound import Sine, Triangle\n",
    "\n"
   ]
  },
  {
   "cell_type": "code",
   "execution_count": 6,
   "metadata": {},
   "outputs": [],
   "source": [
    "# Syntax: \n",
    "# [Pitch name][sharps/flats][octave (default 4)][+- cents]\n",
    "s = Sine('D5 C# A F# B G# E# C# F#', duration=0.5e3)\n",
    "s.play()"
   ]
  },
  {
   "cell_type": "code",
   "execution_count": 5,
   "metadata": {},
   "outputs": [],
   "source": [
    "t = Triangle(\"C3 D E G F# E B D C# A B G# F#\", duration=0.5e3) # all notes with same duration\n",
    "t.play()"
   ]
  },
  {
   "cell_type": "code",
   "execution_count": 7,
   "metadata": {},
   "outputs": [
    {
     "name": "stderr",
     "output_type": "stream",
     "text": [
      "UserWarning: Output audio signal amplitude exceeds 1 (max abs. amplitude 2.58). By default, the signal will be shrunk to fit range of [-1, 1] to prevent clipping. To prevent this behaviour, set the max_amplitude argument to zero, which leaves the signal untouched, or to any positive number, which will stretch/shrink it to match the given peak amplitude.\n"
     ]
    }
   ],
   "source": [
    "from gensound import Sine, Triangle, Square, Pan\n",
    "\n",
    "sig = Triangle # Sine? Square?\n",
    "\n",
    "beat = 0.5e3 # 120 bpm\n",
    "fermata = 0.1 # make fermatas in the melody slightly longer\n",
    "pause = 0.6 # and breathe for a moment before starting the next phrase\n",
    "\n",
    "S = sig(f\"r D5 D=2 C#=1 B-13=2 A=1 D E=2 F#-13={2+fermata} r={pause} F#=1 F#=2 F#=1 E=2 F#-13=1 G F#-13=2 E={2+fermata} r={pause} \"\n",
    "        f\"D+16=1 E=2 F#-13=1 E=2 D+16=1 B-13 C#=2 D+9={2+fermata} r={pause} A'=1 F#-13=2 D+16=1 E=2 G=1 F#-13 E=2 D=3\", beat)\n",
    "A = sig(f\"r A4 B=2 A+16=1 G=2 F#-13=1 F# B-13 A A={2+fermata} r={pause} C#=1 B=2 B=1 B A A A D A A={2+fermata} r={pause} \"\n",
    "        f\"B=1 A=2 A=1 B-13 A=0.5 G F#=1 B-13 B A#-13 B={2+fermata} r={pause} A=1 A=2 B=1 A=2 A=1 A B-13 A F#-13=3\", beat)\n",
    "T = sig(f\"r F#4-13 F#=2 F#=1 D=2 D=1 D D C#-13 D={2+fermata} r={pause} C#=1 D+16=2 D+16=1 D C#-13 D E A, D C#-13={2+fermata} r={pause} \"\n",
    "        f\"F#=1 E=2 D=1 D C#-13 D+16 D G+5 F# F#={2+fermata} r={pause} E=1 F#-13=2 F#=1 E=2 C#-13=1 A B C#-13 D=3\", beat)\n",
    "B = sig(f\"r D3 B-16 D F# G B-13 D B-16 G A D,={2+fermata} r={pause} A#'-13=1 B=2 A=1 G#-13 A F#-13 C#-13 D F#-13 A={2+fermata} r={pause} \"\n",
    "        f\"B=1 C#-13=2 D=1 G, A B G E F# B,={2+fermata} r={pause} C#'-13=1 D C# B C#-13 B A D G, A D,=3\", beat)\n",
    "\n",
    "chorale = S*Pan(25) + B*Pan(-25) + T*Pan(80) + A*Pan(-80) # position the voices in the stereo field\n",
    "chorale.play() # can you spot the parallel octaves?"
   ]
  },
  {
   "cell_type": "code",
   "execution_count": null,
   "metadata": {},
   "outputs": [],
   "source": []
  }
 ],
 "metadata": {
  "kernelspec": {
   "display_name": "Python 3",
   "language": "python",
   "name": "python3"
  },
  "language_info": {
   "codemirror_mode": {
    "name": "ipython",
    "version": 3
   },
   "file_extension": ".py",
   "mimetype": "text/x-python",
   "name": "python",
   "nbconvert_exporter": "python",
   "pygments_lexer": "ipython3",
   "version": "3.10.13"
  }
 },
 "nbformat": 4,
 "nbformat_minor": 2
}
