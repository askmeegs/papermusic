{
 "cells": [
  {
   "cell_type": "code",
   "execution_count": 1,
   "metadata": {},
   "outputs": [
    {
     "name": "stdout",
     "output_type": "stream",
     "text": [
      "Requirement already satisfied: scamp in /Users/mokeefe/Library/Python/3.10/lib/python/site-packages (0.9.2.post2)\n",
      "Requirement already satisfied: arpeggio in /Users/mokeefe/Library/Python/3.10/lib/python/site-packages (from scamp) (2.0.2)\n",
      "Requirement already satisfied: clockblocks>=0.6.9 in /Users/mokeefe/Library/Python/3.10/lib/python/site-packages (from scamp) (0.6.9.post1)\n",
      "Requirement already satisfied: expenvelope>=0.7.2 in /Users/mokeefe/Library/Python/3.10/lib/python/site-packages (from scamp) (0.7.2)\n",
      "Requirement already satisfied: midiutil in /Users/mokeefe/Library/Python/3.10/lib/python/site-packages (from scamp) (1.2.1)\n",
      "Requirement already satisfied: pymusicxml>=0.5.6 in /Users/mokeefe/Library/Python/3.10/lib/python/site-packages (from scamp) (0.5.6)\n",
      "Requirement already satisfied: python-osc in /Users/mokeefe/Library/Python/3.10/lib/python/site-packages (from scamp) (1.8.3)\n"
     ]
    }
   ],
   "source": [
    "! pip3 install --user scamp\n"
   ]
  },
  {
   "cell_type": "code",
   "execution_count": 2,
   "metadata": {},
   "outputs": [
    {
     "name": "stdout",
     "output_type": "stream",
     "text": [
      "Requirement already satisfied: python-rtmidi in /Users/mokeefe/Library/Python/3.10/lib/python/site-packages (1.5.8)\n"
     ]
    }
   ],
   "source": [
    "! pip3 install --user python-rtmidi\n"
   ]
  },
  {
   "cell_type": "code",
   "execution_count": 3,
   "metadata": {},
   "outputs": [
    {
     "name": "stdout",
     "output_type": "stream",
     "text": [
      "Requirement already satisfied: scamp_extensions in /Users/mokeefe/Library/Python/3.10/lib/python/site-packages (0.3.5.post2)\n",
      "Requirement already satisfied: scamp>=0.9.2 in /Users/mokeefe/Library/Python/3.10/lib/python/site-packages (from scamp_extensions) (0.9.2.post2)\n",
      "Requirement already satisfied: arpeggio in /Users/mokeefe/Library/Python/3.10/lib/python/site-packages (from scamp>=0.9.2->scamp_extensions) (2.0.2)\n",
      "Requirement already satisfied: clockblocks>=0.6.9 in /Users/mokeefe/Library/Python/3.10/lib/python/site-packages (from scamp>=0.9.2->scamp_extensions) (0.6.9.post1)\n",
      "Requirement already satisfied: expenvelope>=0.7.2 in /Users/mokeefe/Library/Python/3.10/lib/python/site-packages (from scamp>=0.9.2->scamp_extensions) (0.7.2)\n",
      "Requirement already satisfied: midiutil in /Users/mokeefe/Library/Python/3.10/lib/python/site-packages (from scamp>=0.9.2->scamp_extensions) (1.2.1)\n",
      "Requirement already satisfied: pymusicxml>=0.5.6 in /Users/mokeefe/Library/Python/3.10/lib/python/site-packages (from scamp>=0.9.2->scamp_extensions) (0.5.6)\n",
      "Requirement already satisfied: python-osc in /Users/mokeefe/Library/Python/3.10/lib/python/site-packages (from scamp>=0.9.2->scamp_extensions) (1.8.3)\n"
     ]
    }
   ],
   "source": [
    "! pip3 install --user scamp_extensions\n"
   ]
  },
  {
   "cell_type": "code",
   "execution_count": 7,
   "metadata": {},
   "outputs": [
    {
     "name": "stderr",
     "output_type": "stream",
     "text": [
      "WARNING:root:pynput was not found; mouse and keyboard input will not be available.\n"
     ]
    }
   ],
   "source": [
    "from scamp import *"
   ]
  },
  {
   "cell_type": "code",
   "execution_count": 8,
   "metadata": {},
   "outputs": [],
   "source": [
    "s = Session()"
   ]
  },
  {
   "cell_type": "code",
   "execution_count": 3,
   "metadata": {},
   "outputs": [
    {
     "name": "stdout",
     "output_type": "stream",
     "text": [
      "Using preset Clarinet for clarinet\n"
     ]
    }
   ],
   "source": [
    "clarinet = s.new_part(\"clarinet\")"
   ]
  },
  {
   "cell_type": "code",
   "execution_count": 7,
   "metadata": {},
   "outputs": [],
   "source": [
    "# pitch, volume, length\n",
    "clarinet.play_note(60, 0.8, 2.0)"
   ]
  },
  {
   "cell_type": "code",
   "execution_count": 11,
   "metadata": {},
   "outputs": [
    {
     "name": "stderr",
     "output_type": "stream",
     "text": [
      "WARNING:root:Clock MASTER (beat=6.0) is running noticeably behind real time (22.19198 s) on a wait call of 4.0 s; probably processing is too heavy.\n"
     ]
    },
    {
     "name": "stdout",
     "output_type": "stream",
     "text": [
      "Using preset French Horns for french horns\n"
     ]
    }
   ],
   "source": [
    "\n",
    "f = s.new_part(\"french horns\")\n",
    "f.play_note(60, 0.8, 4.0)\n"
   ]
  },
  {
   "cell_type": "code",
   "execution_count": 14,
   "metadata": {},
   "outputs": [
    {
     "name": "stdout",
     "output_type": "stream",
     "text": [
      "PRESETS FOR default (general_midi)\n",
      "   Preset[000:047] Timpani Half 2 bag(s) from #0\n",
      "   Preset[000:051] Synth Str 2 3 bag(s) from #2\n",
      "   Preset[000:009] Glockenspiel 2 bag(s) from #5\n",
      "   Preset[000:048] Strings SP1 2 bag(s) from #7\n",
      "   Preset[000:073] Flute Gold 2 bag(s) from #9\n",
      "   Preset[000:075] Pan Flute 2 bag(s) from #11\n",
      "   Preset[000:001] Bright Piano 2 bag(s) from #13\n",
      "   Preset[000:000] Piano Merlin 6 bag(s) from #15\n",
      "   Preset[000:049] Slow Strings SP 2 bag(s) from #21\n",
      "   Preset[000:060] French Horns 2 bag(s) from #23\n",
      "   Preset[128:048] Orchestra 2 bag(s) from #25\n",
      "   Preset[128:032] Jazz 2 bag(s) from #27\n",
      "   Preset[128:025] TR 808 2 bag(s) from #29\n",
      "   Preset[128:016] Power 2 bag(s) from #31\n",
      "   Preset[128:000] Standard 2 bag(s) from #33\n",
      "   Preset[000:044] Tremolande 2 bag(s) from #35\n",
      "   Preset[000:046] Harp LP2 2 bag(s) from #37\n",
      "   Preset[000:045] Pizzicato Strings 2 bag(s) from #39\n",
      "   Preset[000:025] Steel Guitar PH 2 bag(s) from #41\n",
      "   Preset[000:065] Alto SAX 2 bag(s) from #43\n",
      "   Preset[000:067] Baritone Sax 2 bag(s) from #45\n",
      "   Preset[000:066] Tenor Sax New 2 bag(s) from #47\n",
      "   Preset[000:024] Guitar Nylon X 2 bag(s) from #49\n",
      "   Preset[000:022] Harmonica 2 bag(s) from #51\n",
      "   Preset[000:041] Viola LP 2 bag(s) from #53\n",
      "   Preset[000:064] Soprano Sax 3 bag(s) from #55\n",
      "   Preset[000:026] Jazz Guitar 2 bag(s) from #58\n",
      "   Preset[000:013] Xylophone 3 bag(s) from #60\n",
      "   Preset[000:012] Marimba 2 bag(s) from #63\n",
      "   Preset[000:050] Synth Strings 1 2 bag(s) from #65\n",
      "   Preset[000:019] Church Organ 2 4 bag(s) from #67\n",
      "   Preset[000:043] Contrabass 2 bag(s) from #71\n",
      "   Preset[000:042] Cello LP 3 bag(s) from #73\n",
      "   Preset[000:040] Violin LP3 2 bag(s) from #76\n",
      "   Preset[000:068] Oboe 2 bag(s) from #78\n",
      "   Preset[000:071] Clarinet 2 bag(s) from #80\n",
      "   Preset[000:070] Bassoon (Rea) 2 bag(s) from #82\n",
      "   Preset[000:069] English Horn (Rea) 2 bag(s) from #84\n",
      "   Preset[000:002] Piano 3 3 bag(s) from #86\n",
      "   Preset[000:003] Honky Tonk 3 bag(s) from #89\n",
      "   Preset[000:004] E.Piano 1 3 bag(s) from #92\n",
      "   Preset[000:005] E.Piano 2 2 bag(s) from #95\n",
      "   Preset[000:007] Clavinet 2 bag(s) from #97\n",
      "   Preset[000:008] Celesta 2 bag(s) from #99\n",
      "   Preset[000:010] Music Box 2 bag(s) from #101\n",
      "   Preset[000:011] Vibraphone 2 bag(s) from #103\n",
      "   Preset[000:014] Tubular Bells 2 bag(s) from #105\n",
      "   Preset[000:015] Dulcimer 2 bag(s) from #107\n",
      "   Preset[000:016] Organ 1 2 bag(s) from #109\n",
      "   Preset[000:017] Organ 2 2 bag(s) from #111\n",
      "   Preset[000:018] Organ 3 3 bag(s) from #113\n",
      "   Preset[000:020] Reed Organ 3 bag(s) from #116\n",
      "   Preset[000:021] Accordion 3 bag(s) from #119\n",
      "   Preset[000:023] Bandoneon 2 bag(s) from #122\n",
      "   Preset[000:027] Clean Guitar 2 bag(s) from #124\n",
      "   Preset[000:028] Guitar Mutes 2 bag(s) from #126\n",
      "   Preset[000:029] Overdrive Guitar 2 bag(s) from #128\n",
      "   Preset[000:030] DistortionGuitar 2 bag(s) from #130\n",
      "   Preset[000:031] Guitar Harmonics 2 bag(s) from #132\n",
      "   Preset[000:032] Acoustic Bass 2 bag(s) from #134\n",
      "   Preset[000:033] Fingered Bass 2 bag(s) from #136\n",
      "   Preset[000:034] Picked Bass 2 bag(s) from #138\n",
      "   Preset[000:035] Fretless Bass 2 bag(s) from #140\n",
      "   Preset[000:036] Slap Bass 1 2 bag(s) from #142\n",
      "   Preset[000:037] Slap Bass 2 2 bag(s) from #144\n",
      "   Preset[000:038] Synth Bass 1 2 bag(s) from #146\n",
      "   Preset[000:039] Synth Bass 2 2 bag(s) from #148\n",
      "   Preset[000:052] Choir Aahs 4 bag(s) from #150\n",
      "   Preset[000:053] Voice Oohs 3 bag(s) from #154\n",
      "   Preset[000:054] Synth Vox 2 bag(s) from #157\n",
      "   Preset[000:055] Orchestra Hit 2 bag(s) from #159\n",
      "   Preset[000:056] Trumpet 2 bag(s) from #161\n",
      "   Preset[000:057] Trombone 2 bag(s) from #163\n",
      "   Preset[000:058] Tuba 2 bag(s) from #165\n",
      "   Preset[000:059] Mute Trumpet 2 bag(s) from #167\n",
      "   Preset[000:061] Brass 2 bag(s) from #169\n",
      "   Preset[000:062] Synth Brass 1 2 bag(s) from #171\n",
      "   Preset[000:063] Synth Brass 2 2 bag(s) from #173\n",
      "   Preset[000:072] Piccolo 2 bag(s) from #175\n",
      "   Preset[000:074] Recorder 2 bag(s) from #177\n",
      "   Preset[000:076] Bottle Chiff 2 bag(s) from #179\n",
      "   Preset[000:077] Shakuhachi 2 bag(s) from #181\n",
      "   Preset[000:078] Whistle 2 bag(s) from #183\n",
      "   Preset[000:079] Ocarina 2 bag(s) from #185\n",
      "   Preset[000:080] Square Wave 3 bag(s) from #187\n",
      "   Preset[000:081] Saw Wave 3 bag(s) from #190\n",
      "   Preset[000:082] Synth Calliope 2 bag(s) from #193\n",
      "   Preset[000:083] Chiffer Lead 2 bag(s) from #195\n",
      "   Preset[000:084] Charang 2 bag(s) from #197\n",
      "   Preset[000:085] Solo Vox 2 bag(s) from #199\n",
      "   Preset[000:086] 5th Saw Wave 2 bag(s) from #201\n",
      "   Preset[000:087] Bass & Lead 2 bag(s) from #203\n",
      "   Preset[000:088] Fantasia 5 bag(s) from #205\n",
      "   Preset[000:089] Warm Pad 2 bag(s) from #210\n",
      "   Preset[000:090] Poly Synth 2 bag(s) from #212\n",
      "   Preset[000:091] Space Voice 2 bag(s) from #214\n",
      "   Preset[000:092] Bowed Glass 3 bag(s) from #216\n",
      "   Preset[000:093] Metal Pad 2 bag(s) from #219\n",
      "   Preset[000:094] Halo Pad 2 bag(s) from #221\n",
      "   Preset[000:095] Sweep Pad 2 bag(s) from #223\n",
      "   Preset[000:096] Ice Rain 2 bag(s) from #225\n",
      "   Preset[000:097] Soundtrack 2 bag(s) from #227\n",
      "   Preset[000:098] Crystal 2 bag(s) from #229\n",
      "   Preset[000:099] Atmosphere 2 bag(s) from #231\n",
      "   Preset[000:100] Brightness 2 bag(s) from #233\n",
      "   Preset[000:101] Goblin 2 bag(s) from #235\n",
      "   Preset[000:102] Echo Drops 2 bag(s) from #237\n",
      "   Preset[000:103] Star Theme 2 bag(s) from #239\n",
      "   Preset[000:104] Sitar 2 bag(s) from #241\n",
      "   Preset[000:105] Banjo 2 bag(s) from #243\n",
      "   Preset[000:106] Shamisen 2 bag(s) from #245\n",
      "   Preset[000:107] Koto 2 bag(s) from #247\n",
      "   Preset[000:108] Kalimba 2 bag(s) from #249\n",
      "   Preset[000:109] Bagpipe 2 bag(s) from #251\n",
      "   Preset[000:110] Fiddle 2 bag(s) from #253\n",
      "   Preset[000:111] Shenai 2 bag(s) from #255\n",
      "   Preset[000:112] Tinker Bell 2 bag(s) from #257\n",
      "   Preset[000:113] Agogo 2 bag(s) from #259\n",
      "   Preset[000:114] Steel Drum 2 bag(s) from #261\n",
      "   Preset[000:115] Wood Block 2 bag(s) from #263\n",
      "   Preset[000:116] Taiko Drum 2 bag(s) from #265\n",
      "   Preset[000:117] Melodic Tom 2 bag(s) from #267\n",
      "   Preset[000:118] Synth Drum 2 bag(s) from #269\n",
      "   Preset[000:119] Reverse Cymbal 2 bag(s) from #271\n",
      "   Preset[000:120] Fret Noise 2 bag(s) from #273\n",
      "   Preset[000:121] Breath Noise 2 bag(s) from #275\n",
      "   Preset[000:122] Seashore 2 bag(s) from #277\n",
      "   Preset[000:123] Bird 2 bag(s) from #279\n",
      "   Preset[000:124] Telephone 2 bag(s) from #281\n",
      "   Preset[000:125] Helicopter 2 bag(s) from #283\n",
      "   Preset[000:126] Applause 2 bag(s) from #285\n",
      "   Preset[000:127] Gun Shot 2 bag(s) from #287\n",
      "   Preset[000:006] Coupled Harpsichord 3 bag(s) from #289\n",
      "   Preset EOP\n"
     ]
    }
   ],
   "source": [
    "presets = s.print_default_soundfont_presets()"
   ]
  },
  {
   "cell_type": "code",
   "execution_count": 15,
   "metadata": {},
   "outputs": [
    {
     "name": "stdout",
     "output_type": "stream",
     "text": [
      "Using preset Music Box for music box\n"
     ]
    }
   ],
   "source": [
    "m = s.new_part(\"music box\")\n"
   ]
  },
  {
   "cell_type": "code",
   "execution_count": 17,
   "metadata": {},
   "outputs": [
    {
     "name": "stderr",
     "output_type": "stream",
     "text": [
      "WARNING:root:Clock MASTER (beat=11.5) is running noticeably behind real time (0.75399 s) on a wait call of 0.5 s; probably processing is too heavy.\n"
     ]
    }
   ],
   "source": [
    "# http://scamp.marcevanstein.com/narrative/tutorial_videos.html#playing-notes\n",
    "m.play_note(80, 0.8, 0.5) \n",
    "m.play_note(76, 0.8, 0.5) \n",
    "m.play_note(80, 0.8, 0.5) "
   ]
  },
  {
   "cell_type": "code",
   "execution_count": 21,
   "metadata": {},
   "outputs": [
    {
     "name": "stderr",
     "output_type": "stream",
     "text": [
      "WARNING:root:Clock MASTER (beat=15.0) is running noticeably behind real time (1.02064 s) on a wait call of 2.0 s; probably processing is too heavy.\n"
     ]
    }
   ],
   "source": [
    "m.play_chord([80, 76, 80], 0.8, 2.0)"
   ]
  },
  {
   "cell_type": "code",
   "execution_count": 35,
   "metadata": {},
   "outputs": [
    {
     "name": "stderr",
     "output_type": "stream",
     "text": [
      "WARNING:root:Clock MASTER (beat=58.1) is running noticeably behind real time (9.06179 s) on a wait call of 1.0 s; probably processing is too heavy.\n"
     ]
    }
   ],
   "source": [
    "clarinet.play_note(60, 1, 1)\n",
    "clarinet.play_note(62, 1, 1)\n",
    "clarinet.play_note(64, 1, 1)\n",
    "clarinet.play_note(65, 1, 1)\n",
    "clarinet.play_note(67, 1, 1)\n",
    "clarinet.play_note(69, 1, 1)\n",
    "clarinet.play_note(71, 1, 1)\n",
    "clarinet.play_note(72, 1, 1)"
   ]
  },
  {
   "cell_type": "code",
   "execution_count": 4,
   "metadata": {},
   "outputs": [],
   "source": [
    "clarinet.play_note(60, 1, 1)\n",
    "clarinet.play_note(62, 1, 1)\n",
    "clarinet.play_note(64, 1, 1)\n",
    "clarinet.play_note(67, 1, 1)\n",
    "clarinet.play_note(69, 1, 1)\n",
    "clarinet.play_note(72, 1, 1)\n",
    "clarinet.play_note(74, 1, 1)\n",
    "clarinet.play_note(76, 1, 1)"
   ]
  },
  {
   "cell_type": "code",
   "execution_count": 2,
   "metadata": {},
   "outputs": [],
   "source": [
    "nm = {\n",
    "    \"C4\": 60,\n",
    "    \"C#4\": 61,\n",
    "    \"D4\": 62,\n",
    "    \"D#4\": 63,\n",
    "    \"E4\": 64,\n",
    "    \"F4\": 65,\n",
    "    \"F#4\": 66,\n",
    "    \"G4\": 67,\n",
    "    \"G#4\": 68,\n",
    "    \"A4\": 69,\n",
    "    \"A#4\": 70,\n",
    "    \"B34\": 71,\n",
    "    \"C5\": 72,\n",
    "    \"C#5\": 73,\n",
    "    \"D5\": 74,\n",
    "    \"D#5\": 75,\n",
    "    \"E5\": 76,\n",
    "    \"F5\": 77,\n",
    "    \"F#5\": 78,\n",
    "    \"G5\": 79,\n",
    "    \"G#5\": 80,\n",
    "    \"A5\": 81,\n",
    "    \"A#5\": 82,\n",
    "    \"B5\": 83,\n",
    "    \"C6\": 84,\n",
    "    \"C#6\": 85,\n",
    "    \"D6\": 86,\n",
    "    \"D#6\": 87,\n",
    "    \"E6\": 88,\n",
    "    \"F6\": 89,\n",
    "    \"F#6\": 90,\n",
    "    \"G6\": 91,\n",
    "    \"G#6\": 92,\n",
    "    \"A6\": 93,\n",
    "    \"A#6\": 94,\n",
    "    \"B6\": 95,\n",
    "    \"C7\": 96\n",
    "}"
   ]
  },
  {
   "cell_type": "code",
   "execution_count": 9,
   "metadata": {},
   "outputs": [],
   "source": [
    "def create_instrument(name : str):\n",
    "    s = Session()\n",
    "    try: \n",
    "        inst = s.new_part(name)\n",
    "        return inst \n",
    "    except: \n",
    "        print(\"unrecognized instrument, returning music box!\")\n",
    "        inst = s.new_part(\"music box\")\n",
    "        return inst "
   ]
  },
  {
   "cell_type": "code",
   "execution_count": 5,
   "metadata": {},
   "outputs": [],
   "source": [
    "def play(inst, notename): \n",
    "    try: \n",
    "        inst.play_note(nm[notename], 0.8, 0.5)\n",
    "    except: \n",
    "        print(\"unrecognized note, skipping\")"
   ]
  },
  {
   "cell_type": "code",
   "execution_count": 22,
   "metadata": {},
   "outputs": [
    {
     "name": "stdout",
     "output_type": "stream",
     "text": [
      "Using preset Accordion for accordion\n"
     ]
    }
   ],
   "source": [
    "i = create_instrument(\"accordion\")\n",
    "play(i, \"E4\")\n",
    "play(i, \"A4\")\n",
    "play(i, \"C#5\")"
   ]
  },
  {
   "cell_type": "code",
   "execution_count": null,
   "metadata": {},
   "outputs": [],
   "source": []
  }
 ],
 "metadata": {
  "kernelspec": {
   "display_name": "Python 3",
   "language": "python",
   "name": "python3"
  },
  "language_info": {
   "codemirror_mode": {
    "name": "ipython",
    "version": 3
   },
   "file_extension": ".py",
   "mimetype": "text/x-python",
   "name": "python",
   "nbconvert_exporter": "python",
   "pygments_lexer": "ipython3",
   "version": "3.10.13"
  }
 },
 "nbformat": 4,
 "nbformat_minor": 2
}
