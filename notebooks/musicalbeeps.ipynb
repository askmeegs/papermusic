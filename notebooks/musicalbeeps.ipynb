{
 "cells": [
  {
   "cell_type": "code",
   "execution_count": 2,
   "metadata": {},
   "outputs": [
    {
     "name": "stdout",
     "output_type": "stream",
     "text": [
      "Requirement already satisfied: musicalbeeps in /opt/homebrew/lib/python3.10/site-packages (0.2.9)\n",
      "Requirement already satisfied: numpy in /opt/homebrew/lib/python3.10/site-packages (from musicalbeeps) (1.23.3)\n",
      "Requirement already satisfied: simpleaudio in /opt/homebrew/lib/python3.10/site-packages (from musicalbeeps) (1.0.4)\n"
     ]
    }
   ],
   "source": [
    "! pip install musicalbeeps\n",
    "import musicalbeeps\n"
   ]
  },
  {
   "cell_type": "code",
   "execution_count": 3,
   "metadata": {},
   "outputs": [],
   "source": [
    "player = musicalbeeps.Player(volume = 0.3,\n",
    "                            mute_output = False)"
   ]
  },
  {
   "cell_type": "markdown",
   "metadata": {},
   "source": [
    "```\n",
    "note format:\n",
    "    Each note must be formatted like so: 'A5#:1.5' (without quotes)\n",
    "    Where:\n",
    "        - 'A' is the note (between A and G, can be lowercase)\n",
    "        - '5' is the octave (between 0 and 8, default=4)\n",
    "        - '#' (or 'b') is optional and used to play a sharp or flat note\n",
    "        - ':1.5' is the duration of the note (1.5 seconds here, default=0.5)\n",
    "```\n"
   ]
  },
  {
   "cell_type": "code",
   "execution_count": 4,
   "metadata": {},
   "outputs": [
    {
     "name": "stdout",
     "output_type": "stream",
     "text": [
      "Playing A (440.00 Hz) for 0.8s\n",
      "Playing G3b (185.00 Hz) for 2.5s\n",
      "Playing F5# (739.99 Hz) for 0.5s\n",
      "Pausing for 0.5s\n"
     ]
    }
   ],
   "source": [
    "# https://pypi.org/project/musicalbeeps/\n",
    "# To play an A on default octave n°4 for 0.2 seconds\n",
    "player.play_note(\"A\", 0.8)\n",
    "\n",
    "# To play a G flat on octave n°3 for 2.5 seconds\n",
    "player.play_note(\"G3b\", 2.5)\n",
    "\n",
    "# To play a F sharp on octave n°5 for the default duration of 0.5 seconds\n",
    "player.play_note(\"F5#\")\n",
    "\n",
    "# To pause the player for 0.5 seconds\n",
    "player.play_note(\"pause\", 0.5)\n"
   ]
  },
  {
   "cell_type": "code",
   "execution_count": 5,
   "metadata": {},
   "outputs": [
    {
     "name": "stdout",
     "output_type": "stream",
     "text": [
      "Playing B3b (233.08 Hz) for 0.5s\n"
     ]
    }
   ],
   "source": [
    "player.play_note(\"B3b\")\n"
   ]
  },
  {
   "cell_type": "code",
   "execution_count": null,
   "metadata": {},
   "outputs": [],
   "source": []
  }
 ],
 "metadata": {
  "kernelspec": {
   "display_name": "src",
   "language": "python",
   "name": "python3"
  },
  "language_info": {
   "codemirror_mode": {
    "name": "ipython",
    "version": 3
   },
   "file_extension": ".py",
   "mimetype": "text/x-python",
   "name": "python",
   "nbconvert_exporter": "python",
   "pygments_lexer": "ipython3",
   "version": "3.10.13"
  }
 },
 "nbformat": 4,
 "nbformat_minor": 2
}
